{
 "cells": [
  {
   "cell_type": "markdown",
   "metadata": {},
   "source": [
    "# CityBikes"
   ]
  },
  {
   "cell_type": "markdown",
   "metadata": {},
   "source": [
    "Send a request to CityBikes for the city of your choice. "
   ]
  },
  {
   "cell_type": "code",
   "execution_count": 34,
   "metadata": {},
   "outputs": [
    {
     "name": "stdout",
     "output_type": "stream",
     "text": [
      "                    name                                           location\n",
      "0  Abu Dhabi Careem BIKE  {'latitude': 24.4866, 'longitude': 54.3728, 'c...\n",
      "1             Accès Vélo  {'latitude': 48.433333, 'longitude': -71.08333...\n",
      "2                   Aksu  {'latitude': 41.1664, 'longitude': 80.2617, 'c...\n",
      "3                   Alba  {'latitude': 44.716667, 'longitude': 8.083333,...\n",
      "4               AlbaBici  {'latitude': 38.9943, 'longitude': -1.8602, 'c...\n"
     ]
    }
   ],
   "source": [
    "#To begin I connected to the CityBikes API\n",
    "import requests\n",
    "import pandas as pd\n",
    "\n",
    "networks = \"http://api.citybik.es/v2/networks\"\n",
    "response = requests.get(networks)\n",
    "networkdata = response.json()\n",
    "\n",
    "#Secondly, I wanted to view the all the geographic options possible for this project\n",
    "networksdf = pd.DataFrame(networkdata[\"networks\"])\n",
    "print(networksdf[[\"name\", \"location\"]].head())"
   ]
  },
  {
   "cell_type": "code",
   "execution_count": 36,
   "metadata": {},
   "outputs": [],
   "source": [
    "#I had chosen Detroit\n",
    "detroit_url = \"http://api.citybik.es/v2/networks/mogo-detroit\"\n",
    "\n",
    "detroitresponse = requests.get(detroit_url)"
   ]
  },
  {
   "cell_type": "markdown",
   "metadata": {},
   "source": [
    "Parse through the response to get the details you want for the bike stations in that city (latitude, longitude, number of bikes). "
   ]
  },
  {
   "cell_type": "code",
   "execution_count": 22,
   "metadata": {},
   "outputs": [
    {
     "name": "stdout",
     "output_type": "stream",
     "text": [
      "{'id': '019fbdf044ddeded277660f9d9c5fb23', 'name': 'E Bethune St & Brush St', 'latitude': 42.374231, 'longitude': -83.069759, 'timestamp': '2025-06-17T02:27:28.770440+00:00Z', 'free_bikes': 1, 'empty_slots': 10, 'extra': {'uid': '42', 'renting': True, 'returning': True, 'last_updated': 1750127228, 'address': 'E Bethune St & Brush St', 'post_code': '48202', 'payment': ['key', 'transitcard', 'creditcard', 'phone'], 'payment-terminal': True, 'altitude': None, 'slots': 11, 'ebikes': 0, 'has_ebikes': True, 'normal_bikes': 1, 'rental_uris': {}, 'virtual': False}}\n"
     ]
    }
   ],
   "source": [
    "#Firstly I confirmed if the response was successful\n",
    "if detroitresponse.status_code == 200:\n",
    "    detroitdata = detroitresponse.json()\n",
    "    \n",
    "    #I parsed the JSON code and accessed the `\"stations\"` key within the `\"network\"\n",
    "    detroitstations = detroitdata[\"network\"][\"stations\"]\n",
    "\n",
    "    #I was able to view all the avaliable information present via the stations key \n",
    "    print(detroitstations[0])"
   ]
  },
  {
   "cell_type": "code",
   "execution_count": 24,
   "metadata": {},
   "outputs": [],
   "source": [
    "#I selected a handful of variables which I thought were important to see\n",
    "#Assignment mentioned latitude, longitude and number of bikes\n",
    "#Additional information such as ID's, names, free bikes & empty slotes would also be beneficial\n",
    "detroitbikes = pd.DataFrame([{\n",
    "        \"station_id\": station[\"id\"],\n",
    "        \"name\": station[\"name\"],\n",
    "        \"latitude\": station[\"latitude\"],\n",
    "        \"longitude\": station[\"longitude\"],\n",
    "        \"free_bikes\": station[\"free_bikes\"],\n",
    "        \"empty_slots\": station[\"empty_slots\"]\n",
    "    } for station in detroitstations])"
   ]
  },
  {
   "cell_type": "markdown",
   "metadata": {},
   "source": [
    "Put your parsed results into a DataFrame."
   ]
  },
  {
   "cell_type": "code",
   "execution_count": 12,
   "metadata": {},
   "outputs": [
    {
     "name": "stdout",
     "output_type": "stream",
     "text": [
      "                         station_id                       name   latitude  \\\n",
      "0  019fbdf044ddeded277660f9d9c5fb23    E Bethune St & Brush St  42.374231   \n",
      "1  021d0e9c8fcd21ec32bd3136945ef332        20th St & Bagley St  42.324627   \n",
      "2  0ad79e03add4ffef597d9a7b51d374be       Agnes St & Parker St  42.355351   \n",
      "3  0d077ef68550428f754b9685b5750b27   Wabash St & Michigan Ave  42.331483   \n",
      "4  0d7d5ce52fd3c9eea183caed919e0dd1  *N Main St & Gardenia Ave  42.497780   \n",
      "\n",
      "   longitude  free_bikes  empty_slots  \n",
      "0 -83.069759           1           10  \n",
      "1 -83.080853           5            5  \n",
      "2 -82.996276           5            9  \n",
      "3 -83.075110           5            6  \n",
      "4 -83.144430           4            3  \n"
     ]
    }
   ],
   "source": [
    "#Once the chosen fields were organized into dictionaries, it was converted into a dataframe \n",
    "#I printed the df to ensure all the details were correctly extracted and formatted\n",
    "print(detroitbikes.head())"
   ]
  },
  {
   "cell_type": "code",
   "execution_count": 42,
   "metadata": {},
   "outputs": [],
   "source": [
    "detroitbikes.to_csv(\"detroitbikes.csv\", index=False)\n"
   ]
  },
  {
   "cell_type": "code",
   "execution_count": null,
   "metadata": {},
   "outputs": [],
   "source": []
  }
 ],
 "metadata": {
  "kernelspec": {
   "display_name": "Python 3 (ipykernel)",
   "language": "python",
   "name": "python3"
  },
  "language_info": {
   "codemirror_mode": {
    "name": "ipython",
    "version": 3
   },
   "file_extension": ".py",
   "mimetype": "text/x-python",
   "name": "python",
   "nbconvert_exporter": "python",
   "pygments_lexer": "ipython3",
   "version": "3.12.4"
  }
 },
 "nbformat": 4,
 "nbformat_minor": 4
}
